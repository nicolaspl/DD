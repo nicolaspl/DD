{
 "cells": [
  {
   "cell_type": "code",
   "execution_count": 1,
   "metadata": {},
   "outputs": [
    {
     "name": "stdout",
     "output_type": "stream",
     "text": [
      "Requirement already satisfied: urllib3 in c:\\users\\var\\anaconda3\\lib\\site-packages\n"
     ]
    }
   ],
   "source": [
    "!pip install urllib3"
   ]
  },
  {
   "cell_type": "code",
   "execution_count": 104,
   "metadata": {},
   "outputs": [
    {
     "name": "stdout",
     "output_type": "stream",
     "text": [
      "Requirement already satisfied: facebook-sdk in c:\\users\\var\\anaconda3\\lib\\site-packages\n",
      "Requirement already satisfied: requests in c:\\users\\var\\anaconda3\\lib\\site-packages (from facebook-sdk)\n"
     ]
    }
   ],
   "source": [
    "!pip install facebook-sdk"
   ]
  },
  {
   "cell_type": "code",
   "execution_count": 1,
   "metadata": {
    "collapsed": true
   },
   "outputs": [],
   "source": [
    "import urllib3 as url\n",
    "import facebook as fb\n",
    "import requests as rq"
   ]
  },
  {
   "cell_type": "code",
   "execution_count": 2,
   "metadata": {
    "collapsed": true
   },
   "outputs": [],
   "source": [
    "token = 'EAACEdEose0cBADvWaaRNCtYg8npcQx7t0Uul2wNOQQYJi7IhTiKUicbbW10W8l1bHNHibBqFhDHtwYNIvFrZBIjkdwCOufL1ITjFitMaZAG68XGPZBzkpslmhLojvcOGl13JyZCXxAwZAIhSRul6WvjE6FWnIrIXjrIaTD9QrzxcnqS1qgJDuthlfpz22s8wZD'"
   ]
  },
  {
   "cell_type": "code",
   "execution_count": 3,
   "metadata": {
    "collapsed": true
   },
   "outputs": [],
   "source": [
    "graph = fb.GraphAPI(access_token=token, version = 2.7)"
   ]
  },
  {
   "cell_type": "code",
   "execution_count": 7,
   "metadata": {},
   "outputs": [
    {
     "data": {
      "text/plain": [
       "{'id': '1403234969764756', 'name': 'Wojtek Drężek'}"
      ]
     },
     "execution_count": 7,
     "metadata": {},
     "output_type": "execute_result"
    }
   ],
   "source": [
    "graph.request('/v2.7/me')"
   ]
  },
  {
   "cell_type": "code",
   "execution_count": 9,
   "metadata": {
    "collapsed": true
   },
   "outputs": [],
   "source": [
    "photos_data = graph.request('/me/photos/uploaded')['data']"
   ]
  },
  {
   "cell_type": "code",
   "execution_count": 10,
   "metadata": {
    "collapsed": true
   },
   "outputs": [],
   "source": [
    "photos_urls = dict()\n",
    "diamensions = []\n",
    "for item in photos_data:\n",
    "    photo_id = item['id']\n",
    "    images = graph.get_object(id=photo_id, fields='images')['images']\n",
    "    photo_diamensions = []\n",
    "    for image in images:\n",
    "        photo_diamensions.append((image['height'],image['width']))\n",
    "    diamensions.append(photo_diamensions)"
   ]
  },
  {
   "cell_type": "code",
   "execution_count": 35,
   "metadata": {},
   "outputs": [
    {
     "data": {
      "text/plain": [
       "{'id': '307678915987039',\n",
       " 'images': [{'height': 2048,\n",
       "   'source': 'https://scontent.xx.fbcdn.net/v/t31.0-8/468365_307678915987039_1872369099_o.jpg?oh=9b032bac980ab085723df79c07c99bed&oe=59C394F9',\n",
       "   'width': 1361},\n",
       "  {'height': 1444,\n",
       "   'source': 'https://scontent.xx.fbcdn.net/v/t31.0-8/p960x960/468365_307678915987039_1872369099_o.jpg?oh=eec1c75e0278256f92bf2c6f4bd0c06b&oe=59C7D859',\n",
       "   'width': 960},\n",
       "  {'height': 1083,\n",
       "   'source': 'https://scontent.xx.fbcdn.net/v/t31.0-8/p720x720/468365_307678915987039_1872369099_o.jpg?oh=995fc49b125c4c1effd67de0f2898410&oe=5A1054DA',\n",
       "   'width': 720},\n",
       "  {'height': 902,\n",
       "   'source': 'https://scontent.xx.fbcdn.net/v/t31.0-0/p600x600/468365_307678915987039_1872369099_o.jpg?oh=4468fccb8b3e9f06cd34cd48b3aafb28&oe=5A110DF1',\n",
       "   'width': 600},\n",
       "  {'height': 722,\n",
       "   'source': 'https://scontent.xx.fbcdn.net/v/t31.0-0/p480x480/468365_307678915987039_1872369099_o.jpg?oh=56a04a467c744c5ef41b9317db53d11b&oe=59D14F60',\n",
       "   'width': 480},\n",
       "  {'height': 482,\n",
       "   'source': 'https://scontent.xx.fbcdn.net/v/t1.0-0/p320x320/555316_307678915987039_1872369099_n.jpg?oh=9dbc6bc86914f5b73c20e23dc85db4f7&oe=59CA94AF',\n",
       "   'width': 320},\n",
       "  {'height': 540,\n",
       "   'source': 'https://scontent.xx.fbcdn.net/v/t1.0-0/p180x540/555316_307678915987039_1872369099_n.jpg?oh=21b3b9515502cab4b60e980c638f7fe4&oe=59DA9EE4',\n",
       "   'width': 358},\n",
       "  {'height': 195,\n",
       "   'source': 'https://scontent.xx.fbcdn.net/v/t1.0-0/p130x130/555316_307678915987039_1872369099_n.jpg?oh=2292df915178b790cbfc68ae717f8bc9&oe=5A0755EE',\n",
       "   'width': 130},\n",
       "  {'height': 225,\n",
       "   'source': 'https://scontent.xx.fbcdn.net/v/t1.0-0/p75x225/555316_307678915987039_1872369099_n.jpg?oh=53674d1611935053be434f255b93143a&oe=59DAFDBF',\n",
       "   'width': 149}],\n",
       " 'likes': {'data': [{'id': '1480750548670642', 'name': 'Mateusz Górnik'},\n",
       "   {'id': '1370095536370820', 'name': 'Marta Jankowska'},\n",
       "   {'id': '1916647671695176', 'name': 'Natalia Kowalska'},\n",
       "   {'id': '1602721186425267', 'name': 'Konrad Lipiejko'},\n",
       "   {'id': '1509180932478667', 'name': 'Tomasz Buszko'},\n",
       "   {'id': '1388621764525022', 'name': 'Przemysław Jan Koźluk'},\n",
       "   {'id': '1356575867729078', 'name': 'Tomek Szydłowski'}],\n",
       "  'paging': {'cursors': {'after': 'MTM1NjU3NTg2NzcyOTA3OAZDZD',\n",
       "    'before': 'MTQ4MDc1MDU0ODY3MDY0MgZDZD'}}}}"
      ]
     },
     "execution_count": 35,
     "metadata": {},
     "output_type": "execute_result"
    }
   ],
   "source": [
    " graph.get_object(id='307678915987039', fields='images,likes')"
   ]
  },
  {
   "cell_type": "code",
   "execution_count": 13,
   "metadata": {
    "collapsed": true
   },
   "outputs": [],
   "source": [
    "data = graph.request('/me/music')"
   ]
  },
  {
   "cell_type": "code",
   "execution_count": 11,
   "metadata": {
    "collapsed": true
   },
   "outputs": [],
   "source": [
    "import json"
   ]
  },
  {
   "cell_type": "code",
   "execution_count": 14,
   "metadata": {},
   "outputs": [],
   "source": [
    "with open('data.json', 'w') as outfile:\n",
    "    json.dump(data, outfile)"
   ]
  },
  {
   "cell_type": "code",
   "execution_count": 16,
   "metadata": {
    "collapsed": true
   },
   "outputs": [],
   "source": [
    "with open('data.json', 'r') as infile:\n",
    "    read_data = json.load(infile)"
   ]
  },
  {
   "cell_type": "code",
   "execution_count": 17,
   "metadata": {},
   "outputs": [
    {
     "data": {
      "text/plain": [
       "{'data': [{'category': 'Musician/Band',\n",
       "   'created_time': '2017-05-05T00:16:38+0000',\n",
       "   'id': '230296877084855',\n",
       "   'name': 'Michał Wolski'},\n",
       "  {'category': 'Musician/Band',\n",
       "   'created_time': '2017-03-05T22:25:26+0000',\n",
       "   'id': '142675752443909',\n",
       "   'name': 'Funfte Strasse'},\n",
       "  {'category': 'Music Chart',\n",
       "   'created_time': '2017-01-07T18:05:36+0000',\n",
       "   'id': '400280743479221',\n",
       "   'name': 'Hiszpańskie słówko na dziś'},\n",
       "  {'category': 'Musician/Band',\n",
       "   'created_time': '2016-10-01T22:20:42+0000',\n",
       "   'id': '292489684171755',\n",
       "   'name': 'Empress Of'},\n",
       "  {'category': 'Musician/Band',\n",
       "   'created_time': '2016-09-01T20:59:57+0000',\n",
       "   'id': '243835092320875',\n",
       "   'name': 'Van Morrison (Official)'},\n",
       "  {'category': 'Musician/Band',\n",
       "   'created_time': '2016-08-28T16:47:12+0000',\n",
       "   'id': '142280632632215',\n",
       "   'name': 'BOKKA'},\n",
       "  {'category': 'Musician/Band',\n",
       "   'created_time': '2016-08-23T03:07:20+0000',\n",
       "   'id': '164801309315',\n",
       "   'name': 'Skowyt'},\n",
       "  {'category': 'Musician',\n",
       "   'category_list': [{'id': '1335670856447673', 'name': 'Musician'},\n",
       "    {'id': '1601', 'name': 'Artist'},\n",
       "    {'id': '1205', 'name': 'Music'}],\n",
       "   'created_time': '2016-07-06T00:42:24+0000',\n",
       "   'id': '1274391992590662',\n",
       "   'name': 'Ludwig van Beethoven'},\n",
       "  {'category': 'Musician/Band',\n",
       "   'created_time': '2016-02-13T16:15:59+0000',\n",
       "   'id': '993604464036058',\n",
       "   'name': 'Astroplant'},\n",
       "  {'category': 'Artist',\n",
       "   'created_time': '2014-11-28T14:24:53+0000',\n",
       "   'id': '163352813694873',\n",
       "   'name': 'Serge Prokofieff'},\n",
       "  {'category': 'Musician/Band',\n",
       "   'created_time': '2014-11-21T00:52:47+0000',\n",
       "   'id': '532850443401448',\n",
       "   'name': 'Luciano Pavarotti Official'},\n",
       "  {'category': 'Musician/Band',\n",
       "   'created_time': '2014-11-21T00:52:36+0000',\n",
       "   'id': '135537777424',\n",
       "   'name': 'André Rieu'},\n",
       "  {'category': 'Concert Tour',\n",
       "   'created_time': '2014-11-20T16:12:21+0000',\n",
       "   'id': '510060952370174',\n",
       "   'name': 'Boję się 213'},\n",
       "  {'category': 'Musician/Band',\n",
       "   'created_time': '2014-11-15T21:46:58+0000',\n",
       "   'id': '129863715621',\n",
       "   'name': 'Parov Stelar'},\n",
       "  {'category': 'Musician/Band',\n",
       "   'created_time': '2014-09-12T23:07:24+0000',\n",
       "   'id': '43228062105',\n",
       "   'name': 'The Cranberries'},\n",
       "  {'category': 'Musician/Band',\n",
       "   'created_time': '2014-09-01T16:49:58+0000',\n",
       "   'id': '25098475544',\n",
       "   'name': 'Foo Fighters'},\n",
       "  {'category': 'Interest',\n",
       "   'created_time': '2014-08-16T11:03:58+0000',\n",
       "   'id': '104041022966163',\n",
       "   'name': 'Czerwone Gitary'},\n",
       "  {'category': 'Musician/Band',\n",
       "   'created_time': '2014-08-10T16:51:19+0000',\n",
       "   'id': '12170458737',\n",
       "   'name': 'Smokie'},\n",
       "  {'category': 'Musician/Band',\n",
       "   'created_time': '2014-08-03T21:40:13+0000',\n",
       "   'id': '9411551358',\n",
       "   'name': 'Carlos Santana'},\n",
       "  {'category': 'Artist',\n",
       "   'created_time': '2014-06-15T11:10:21+0000',\n",
       "   'id': '109565149062697',\n",
       "   'name': 'Wojciech Kilar'},\n",
       "  {'category': 'Musician/Band',\n",
       "   'created_time': '2014-05-21T16:11:44+0000',\n",
       "   'id': '124611394231248',\n",
       "   'name': 'ABBA'},\n",
       "  {'category': 'Interest',\n",
       "   'created_time': '2014-03-13T21:21:03+0000',\n",
       "   'id': '108001879220031',\n",
       "   'name': 'Ewa Demarczyk'},\n",
       "  {'category': 'Artist',\n",
       "   'created_time': '2014-02-05T21:23:31+0000',\n",
       "   'id': '112471962097449',\n",
       "   'name': 'Ennio Morricone'},\n",
       "  {'category': 'Musician/Band',\n",
       "   'created_time': '2013-11-21T19:37:27+0000',\n",
       "   'id': '160838450605279',\n",
       "   'name': 'The Piano Guys'},\n",
       "  {'category': 'Musician',\n",
       "   'created_time': '2013-08-30T17:54:03+0000',\n",
       "   'id': '101907216518222',\n",
       "   'name': 'Shostakovich'}],\n",
       " 'paging': {'cursors': {'after': 'MTAxOTA3MjE2NTE4MjIy',\n",
       "   'before': 'MjMwMjk2ODc3MDg0ODU1'},\n",
       "  'next': 'https://graph.facebook.com/v2.3/754146801340246/music?access_token=EAACEdEose0cBADvWaaRNCtYg8npcQx7t0Uul2wNOQQYJi7IhTiKUicbbW10W8l1bHNHibBqFhDHtwYNIvFrZBIjkdwCOufL1ITjFitMaZAG68XGPZBzkpslmhLojvcOGl13JyZCXxAwZAIhSRul6WvjE6FWnIrIXjrIaTD9QrzxcnqS1qgJDuthlfpz22s8wZD&limit=25&after=MTAxOTA3MjE2NTE4MjIy'}}"
      ]
     },
     "execution_count": 17,
     "metadata": {},
     "output_type": "execute_result"
    }
   ],
   "source": [
    "read_data"
   ]
  },
  {
   "cell_type": "code",
   "execution_count": 9,
   "metadata": {
    "scrolled": true
   },
   "outputs": [
    {
     "data": {
      "text/plain": [
       "{'birthday': '01/01/1994',\n",
       " 'education': [{'concentration': [{'id': '104076956295773',\n",
       "     'name': 'Computer Science'}],\n",
       "   'id': '865436603544598',\n",
       "   'school': {'id': '1414739952095963',\n",
       "    'name': 'Wydział Matematyki i Nauk Informacyjnych, Politechnika Warszawska'},\n",
       "   'type': 'College'},\n",
       "  {'concentration': [{'id': '350374201803344', 'name': 'Fizyka'}],\n",
       "   'id': '865436270211298',\n",
       "   'school': {'id': '337202576426',\n",
       "    'name': 'Wydział Fizyki Uniwersytetu Warszawskiego'},\n",
       "   'type': 'College'}],\n",
       " 'email': 'varamyr@protonmail.com',\n",
       " 'favorite_teams': [{'id': '149237251784088',\n",
       "   'name': 'Warsaw Eagles American Football Club'}],\n",
       " 'first_name': 'Wojtek',\n",
       " 'gender': 'male',\n",
       " 'hometown': {'id': '108126032553728', 'name': 'Warsaw, Poland'},\n",
       " 'id': '754146801340246',\n",
       " 'inspirational_people': [{'id': '106509562717919', 'name': 'Albert Enstein'},\n",
       "  {'id': '106676942701904', 'name': 'Gandhi'}],\n",
       " 'languages': [{'id': '108397052525143', 'name': 'English'},\n",
       "  {'id': '203455436352315', 'name': 'Japanese language'}],\n",
       " 'last_name': 'Drężek',\n",
       " 'link': 'https://www.facebook.com/app_scoped_user_id/754146801340246/',\n",
       " 'locale': 'pl_PL',\n",
       " 'location': {'id': '108126032553728', 'name': 'Warsaw, Poland'},\n",
       " 'name': 'Wojtek Drężek',\n",
       " 'sports': [{'id': '109368782422374', 'name': 'Running'},\n",
       "  {'id': '174256992592557', 'name': 'Krav Maga'},\n",
       "  {'id': '103092196397515', 'name': 'Mountain biking'}],\n",
       " 'timezone': 2,\n",
       " 'updated_time': '2017-07-04T11:03:27+0000',\n",
       " 'verified': True}"
      ]
     },
     "execution_count": 9,
     "metadata": {},
     "output_type": "execute_result"
    }
   ],
   "source": [
    "graph.request('/me')"
   ]
  },
  {
   "cell_type": "code",
   "execution_count": null,
   "metadata": {
    "collapsed": true
   },
   "outputs": [],
   "source": []
  }
 ],
 "metadata": {
  "kernelspec": {
   "display_name": "Python 3",
   "language": "python",
   "name": "python3"
  },
  "language_info": {
   "codemirror_mode": {
    "name": "ipython",
    "version": 3
   },
   "file_extension": ".py",
   "mimetype": "text/x-python",
   "name": "python",
   "nbconvert_exporter": "python",
   "pygments_lexer": "ipython3",
   "version": "3.6.1"
  }
 },
 "nbformat": 4,
 "nbformat_minor": 2
}
